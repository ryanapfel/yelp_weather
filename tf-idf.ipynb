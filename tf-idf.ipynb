{
 "cells": [
  {
   "cell_type": "code",
   "execution_count": 94,
   "metadata": {},
   "outputs": [],
   "source": [
    "from textblob import TextBlob\n",
    "from textblob.sentiments import NaiveBayesAnalyzer\n"
   ]
  },
  {
   "cell_type": "code",
   "execution_count": 95,
   "metadata": {
    "scrolled": true
   },
   "outputs": [],
   "source": [
    "sentence = \"My name is Ryan Apfel and here is my textblog testing blob. I'm writing a cool new script that I love and enjoy so much. I'm writing a thing about me and all my friends. My friends hate me. They are not nice. \""
   ]
  },
  {
   "cell_type": "code",
   "execution_count": 96,
   "metadata": {},
   "outputs": [],
   "source": [
    "import re\n",
    "sentence = re.sub('[^\\w\\s]',' ',sentence)\n",
    "sentence = re.sub('_',' ',sentence)\n"
   ]
  },
  {
   "cell_type": "code",
   "execution_count": 97,
   "metadata": {},
   "outputs": [],
   "source": [
    "blob = TextBlob(sentence)\n",
    "\n",
    "i_words = ['I','me','my','myself','mine']\n",
    "us_words = ['us','we','our','ours']\n",
    "they_words = ['you','them','they','their','he','she','her','him']"
   ]
  },
  {
   "cell_type": "code",
   "execution_count": 98,
   "metadata": {},
   "outputs": [
    {
     "name": "stdout",
     "output_type": "stream",
     "text": [
      "Blob contains  9 'I' words.\n",
      "Blob contains  0 'us' words.\n",
      "Blob contains  1 'they' words.\n"
     ]
    }
   ],
   "source": [
    "total_i = sum([blob.words.count(i) for i in i_words])\n",
    "total_us = sum([blob.words.count(i) for i in us_words])\n",
    "total_they = sum([blob.words.count(i) for i in they_words])\n",
    "\n",
    "print(\"Blob contains \", total_i, \"'I' words.\")\n",
    "print(\"Blob contains \", total_us, \"'us' words.\")\n",
    "print(\"Blob contains \", total_they, \"'they' words.\")"
   ]
  },
  {
   "cell_type": "code",
   "execution_count": 99,
   "metadata": {},
   "outputs": [
    {
     "data": {
      "text/plain": [
       "0.07"
      ]
     },
     "execution_count": 99,
     "metadata": {},
     "output_type": "execute_result"
    }
   ],
   "source": [
    "blob = TextBlob(sentence)\n",
    "round(blob.sentiment.polarity, 2)"
   ]
  },
  {
   "cell_type": "code",
   "execution_count": 100,
   "metadata": {},
   "outputs": [],
   "source": [
    "import math\n",
    "from textblob import TextBlob as tb\n",
    "\n",
    "def tf(word, blob):\n",
    "    return blob.words.count(word) / len(blob.words)\n",
    "\n",
    "def n_containing(word, bloblist):\n",
    "    return sum(1 for blob in bloblist if word in blob.words)\n",
    "\n",
    "def idf(word, bloblist):\n",
    "    return math.log(len(bloblist) / (1 + n_containing(word, bloblist)))\n",
    "\n",
    "def tfidf(word, blob, bloblist):\n",
    "    return tf(word, blob) * idf(word, bloblist)"
   ]
  },
  {
   "cell_type": "code",
   "execution_count": 121,
   "metadata": {},
   "outputs": [],
   "source": [
    "def tf_group(group, blob):\n",
    "    return sum([blob.words.count(i) for i in group]) / len(blob.words)\n",
    "def n_containing_group(group, bloblist):\n",
    "    num = 0\n",
    "    for blob in bloblist:\n",
    "        for i in group:\n",
    "            if i in blob.words:\n",
    "                num += 1\n",
    "    return num\n",
    "\n",
    "def idf_group(group, bloblist):\n",
    "    return math.log(len(bloblist) / (1 + n_containing(group, bloblist)))\n",
    "\n",
    "def tfidf_group(group, blob, bloblist):\n",
    "    return tf_group(group, blob) * idf_group(group, bloblist)\n"
   ]
  },
  {
   "cell_type": "code",
   "execution_count": 148,
   "metadata": {},
   "outputs": [],
   "source": [
    "document1 = tb(\"\"\"Will I ever grow up? We grow up in many different ways.\n",
    "Mainly we talk about growing up in the context of maturity. But maturity can \n",
    "be broken down into numerous different areas: physical, emotional, mentally, \n",
    "ethically. While many people are grown up in there bodies, many aren't grown up\n",
    "emotionally, mentally, or ethically. If you look back to middle school when physical\n",
    "maturity was a commodity of sorts, everybody sought to be more pgysically mature because\n",
    "they saw those that were mature as higher status. Why? Because they had something that\n",
    "everyone wanted and nobody could have. After everybody had developed that, physical\n",
    "maturity was no longer a commodity but an understanding of sorts. Those that were late \n",
    "bloomers seemed more infatuated with it once they received it while those that were early\n",
    "bloomers started to worry about other things, putting them ahead in other respects of their\n",
    "life. Apply this idea to growing up in the other realms of your life. While being in college \n",
    "means that you're generally removed from these common place values, there is a certain lack of\n",
    "people attempting to find their emotional, mental, and ethical maturity. Will becoming more mature \n",
    "put you at an advantage when so many people are lost looking for theirs? Or is it foolish to grow up\n",
    "in a time when exploration is important and encouraged? What is it that all people will need to\n",
    "eventually face? We all need to grow up eventually. How we grow up is different for\n",
    "every person. Some are gifted/cursed with more time than other to grow up while others are\n",
    "forced to grow up far faster than they are ready.\"\"\")\n",
    "\n",
    "document2 = tb(\"\"\"If I l look back on this post in the future, I might think this is a dark post about my short-term intermitted depression. I assure you, it’s not. It’s hasn’t been long since I sat on the banks of the Norton reservoir in tears and angst, pondering life and pondering death. I sit hear now, weeks later, content with my life. I’m not happy, but I’m acclimated. I’ve adjusted and I’m used to it now. I’ve really learned that my life away from home is an amazing balance between missing my family and loving the freedom. I’ve come to appreciate them so much more, but at the same time, I have felt great not having them in my business all the time. The one disappointment in my life is my business, but Im working on it. \n",
    "But what really made me want to write this is the recent death of another peer. This time it was a person I never met but went to Wheaton. He seemed like a normal kid. “Normal” just makes it worse. Normal implies that there was no underlying complexity to adjust our thoughts on his death. There was no alcohol, no reckless driving, no depression, no disorder, nothing. I can’t help but to become affected by these things. Who knows? I could develop brain cancer next year and die before I turn 21. I could never see europe, never see south america, never see new zealand, australia, or antartica, and everest. This kids death is just to accumulation of a handful of my peers deaths. Isabella Ofsanko. Jeez. That one hit me hard. Very hard. It was only a few weeks ago. I wasn’t too close with her, but I was closer to her than anyone else that’s died in my adult life. I witnessed her growth, her friends, her childhood. I don’t miss her, but I sympathize with her. I in vision myself dead on the side of the road, lifeless with my short unaccomplished life over. It’s heart wrenching. The thought simply quenches my eye of a tear. But the mourning is useless.One should only mourn when there is pain.  Her death caused me no pain, only sadness and awareness. Awareness that the future is futile. There may be no future, if the thing we all carry, death, catches us before then. We can not afford to not live presently. We must dream, life, and push ourselves forward to the lives we seek. We must not sit in contemptedness.  Push forward, out of that bubble seek more, be adventours and love life, without an artificial cancerous stimuli. Enjoy now, not later. Rest in peace Isabella, you were always jubilant when I knew you, I wish you could still bless the world. Your impact on my life was unfortunately minimal, but your death fell nothing short of that. It is a true reminder and catalyst to enjoy life in the NOW. \"\"\")\n",
    "\n",
    "document3 = tb(\"\"\"Morning has provided way to start a routine. Wake up, get breakfast – omelette, toast, coffee, fruit – read news, read, and write. I’ve grown affectionate to devoting time to myself in the morning – a representation that I’m even more of a introvert. Some days success has been limited in waking up. Getting to sleep on time need be higher priority. Body doesn’t like sleeping before 2 – weird. Dreading going out tonight. Why? Ugh. Because I like getting drunk with people I enjoy, playing drinking games, and having a good time. Kicking back. Not this shit. Culture everywhere is too much about hooking up – don’t like that. Well, eventually I will. Divide between female and male widens as a result. Might not go out. Maybe just smoke. Saddening. Drinking has become less attractive than smoking. I hate post drinking feeling like shit and dreading life. Depression has become something that occurs only after I drink, not daily. Maybe won’t drink – hah – probably will. Don’t like parties here. Probably why even journaling. Hopefully I continue despite whatever college I go to. Might contact old outdoor ed instructor, see why he always would go out of college, why he had so many different jobs. Will set some goals for the day.\"\"\")"
   ]
  },
  {
   "cell_type": "code",
   "execution_count": 149,
   "metadata": {},
   "outputs": [
    {
     "name": "stdout",
     "output_type": "stream",
     "text": [
      "Top words in document 1\n",
      "\tWord: advantage, TF-IDF: 0.01738\n",
      "\tWord: infatuated, TF-IDF: 0.01303\n",
      "\tWord: areas, TF-IDF: 0.01158\n",
      "Top words in document 2\n",
      "\tWord: artificial, TF-IDF: 0.07358\n",
      "\tWord: disappointment, TF-IDF: 0.05636\n",
      "\tWord: intermitted, TF-IDF: 0.05088\n",
      "Top words in document 3\n",
      "\tWord: attractive, TF-IDF: 0.05562\n",
      "\tWord: affectionate, TF-IDF: 0.04844\n",
      "\tWord: limited, TF-IDF: 0.04126\n"
     ]
    }
   ],
   "source": [
    "bloblist = [document1, document2, document3]\n",
    "for i, blob in enumerate(bloblist):\n",
    "    print(\"Top words in document {}\".format(i + 1))\n",
    "    scores = {word: tfidf(word, blob, bloblist) for word in blob.words}\n",
    "    sorted_words = sorted(scores.items(), key=lambda x: x[1], reverse=True)\n",
    "    for word, score in sorted_words[:3]:\n",
    "        print(\"\\tWord: {}, TF-IDF: {}\".format(word, round(score, 5)))"
   ]
  },
  {
   "cell_type": "code",
   "execution_count": 150,
   "metadata": {},
   "outputs": [
    {
     "name": "stdout",
     "output_type": "stream",
     "text": [
      "Document 1\n",
      "\t TFIDF for I words 0.0039:\n",
      "\t TFIDF for us words 0.016:\n",
      "\t TFIDF for they words 0.039:\n",
      "Document 2\n",
      "\t TFIDF for I words 0.087:\n",
      "\t TFIDF for us words 0.015:\n",
      "\t TFIDF for they words 0.032:\n",
      "Document 3\n",
      "\t TFIDF for I words 0.049:\n",
      "\t TFIDF for us words 0:\n",
      "\t TFIDF for they words 0.0097:\n"
     ]
    }
   ],
   "source": [
    "for i, blob in enumerate(bloblist):\n",
    "    print(\"Document {}\".format(i + 1))\n",
    "    print(\"\\t TFIDF for I words {0:.2g}:\".format(tfidf_group(i_words, blob, bloblist)))\n",
    "    print(\"\\t TFIDF for us words {0:.2g}:\".format(tfidf_group(us_words, blob, bloblist)))\n",
    "    print(\"\\t TFIDF for they words {0:.2g}:\".format(tfidf_group(they_words, blob, bloblist)))"
   ]
  },
  {
   "cell_type": "code",
   "execution_count": 143,
   "metadata": {},
   "outputs": [
    {
     "data": {
      "text/plain": [
       "0.015694461266687283"
      ]
     },
     "execution_count": 143,
     "metadata": {},
     "output_type": "execute_result"
    }
   ],
   "source": []
  },
  {
   "cell_type": "code",
   "execution_count": null,
   "metadata": {},
   "outputs": [],
   "source": []
  }
 ],
 "metadata": {
  "kernelspec": {
   "display_name": "Python 3",
   "language": "python",
   "name": "python3"
  },
  "language_info": {
   "codemirror_mode": {
    "name": "ipython",
    "version": 3
   },
   "file_extension": ".py",
   "mimetype": "text/x-python",
   "name": "python",
   "nbconvert_exporter": "python",
   "pygments_lexer": "ipython3",
   "version": "3.7.1"
  }
 },
 "nbformat": 4,
 "nbformat_minor": 2
}
